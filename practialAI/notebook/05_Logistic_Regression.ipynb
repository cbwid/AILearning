{
  "nbformat": 4,
  "nbformat_minor": 0,
  "metadata": {
    "colab": {
      "name": "05_Logistic_Regression",
      "provenance": [],
      "collapsed_sections": [],
      "toc_visible": true,
      "include_colab_link": true
    },
    "kernelspec": {
      "display_name": "Python 3",
      "language": "python",
      "name": "python3"
    },
    "language_info": {
      "codemirror_mode": {
        "name": "ipython",
        "version": 3
      },
      "file_extension": ".py",
      "mimetype": "text/x-python",
      "name": "python",
      "nbconvert_exporter": "python",
      "pygments_lexer": "ipython3",
      "version": "3.7.0"
    }
  },
  "cells": [
    {
      "cell_type": "markdown",
      "metadata": {
        "id": "view-in-github",
        "colab_type": "text"
      },
      "source": [
        "<a href=\"https://colab.research.google.com/github/cbwid/practialAI/blob/main/notebook/05_Logistic_Regression.ipynb\" target=\"_parent\"><img src=\"https://colab.research.google.com/assets/colab-badge.svg\" alt=\"Open In Colab\"/></a>"
      ]
    },
    {
      "cell_type": "markdown",
      "metadata": {
        "id": "bOChJSNXtC9g"
      },
      "source": [
        "# 逻辑回归"
      ]
    },
    {
      "cell_type": "markdown",
      "metadata": {
        "id": "OLIxEDq6VhvZ"
      },
      "source": [
        "<img src=\"https://raw.githubusercontent.com/GokuMohandas/practicalAI/master/images/logo.png\" width=150>\n",
        "\n",
        "在上一节中，我们看到线性回归可以很好的拟合出一条线后者一个超平面来做出对连续变量的预测。但是在分类问题中我们希望的输出是类别的概率，线性回归就不能做的很好了。\n",
        "\n",
        "\n",
        "\n"
      ]
    },
    {
      "cell_type": "markdown",
      "metadata": {
        "id": "VoMq0eFRvugb"
      },
      "source": [
        "# 概述"
      ]
    },
    {
      "cell_type": "markdown",
      "metadata": {
        "id": "qWro5T5qTJJL"
      },
      "source": [
        "<img src=\"https://raw.githubusercontent.com/GokuMohandas/practicalAI/master/images/logistic.jpg\" width=270>\n",
        "\n",
        "$ \\hat{y} = \\frac{1}{1 + e^{-XW}} $ \n",
        "\n",
        "*where*:\n",
        "* $\\hat{y}$ = 预测值 | $\\in \\mathbb{R}^{NX1}$ ($N$ 是样本的个数)\n",
        "* $X$ = 输入 | $\\in \\mathbb{R}^{NXD}$ ($D$ 是特征的个数)\n",
        "* $W$ = 权重 | $\\in \\mathbb{R}^{DX1}$ \n",
        "\n",
        "这个是二项式逻辑回归。主要思想是用线性回归的输出值($z=XW$)经过一个sigmoid函数($\\frac{1}{1+e^{-z}}$)来映射到(0, 1)之间。"
      ]
    },
    {
      "cell_type": "markdown",
      "metadata": {
        "id": "YcFvkklZSZr9"
      },
      "source": [
        "当我们有多于两个分类类别，我们就需要使用多项式逻辑回归(softmax分类器)。softmax分类器将会用线性方程($z=XW$)并且归一化它，来产生对应的类别y的概率。\n",
        "\n",
        "$ \\hat{y} = \\frac{e^{XW_y}}{\\sum e^{XW}} $ \n",
        "\n",
        "*where*:\n",
        "* $\\hat{y}$ = 预测值 | $\\in \\mathbb{R}^{NX1}$ ($N$ 是样本的个数)\n",
        "* $X$ = 输入 | $\\in \\mathbb{R}^{NXD}$ ($D$ 是特征的个数)\n",
        "* $W$ = 权重 | $\\in \\mathbb{R}^{DXC}$ ($C$ 是类别的个数)\n"
      ]
    },
    {
      "cell_type": "markdown",
      "metadata": {
        "id": "T4Y55tpzIjOa"
      },
      "source": [
        "* **目标:**  通过输入值$X$来预测$y$的类别概率。softmax分类器将根据归一化线性输出来计算类别概率。 \n",
        "* **优点:**\n",
        "  * 可以预测与输入对应的类别概率。\n",
        "* **缺点:**\n",
        "  * 因为使用的损失函数是要最小化交叉熵损失，所以对离群点很敏感。(支持向量机([SVMs](https://towardsdatascience.com/support-vector-machine-vs-logistic-regression-94cc2975433f)) 是对处理离群点一个很好的选择).\n",
        "* **其他:** Softmax分类器在神经网络结构中广泛用于最后一层，因为它会计算出类别的概率。"
      ]
    },
    {
      "cell_type": "markdown",
      "metadata": {
        "id": "Jq65LZJbSpzd"
      },
      "source": [
        "# 训练"
      ]
    },
    {
      "cell_type": "markdown",
      "metadata": {
        "id": "-HBPn8zPTQfZ"
      },
      "source": [
        "*步骤*:\n",
        "\n",
        "1. 随机初始化模型权重$W$.\n",
        "2. 将输入值 $X$ 传入模型并且得到logits ($z=XW$). 在logits上使用softmax操作得到独热编码后的类别概率$\\hat{y}$。 比如, 如果有三个类别, 预测出的类别概率可能为[0.3, 0.3, 0.4]. \n",
        "3. 使用损失函数将预测值$\\hat{y}$ (例如[0.3, 0.3, 0.4]])和真实值$y$(例如属于第二个类别应该写作[0, 0, 1])做对比，并且计算出损失值$J$。一个很常用的逻辑回归损失函数是交叉熵函数。 \n",
        "**交叉熵：交叉熵的大小表示两个概率分布之间的差异，可以通过最小化交叉熵来得到目标概率分布的近似分布。大部分情况用于分类问题的代价函数中**\n",
        "  * $J(\\theta) = - \\sum_i y_i ln (\\hat{y_i}) =  - \\sum_i y_i ln (\\frac{e^{X_iW_y}}{\\sum e^{X_iW}}) $\n",
        "   * $y$ = [0, 0, 1]\n",
        "  * $\\hat{y}$ = [0.3, 0.3, 0.4]]\n",
        "  * $J(\\theta) = - \\sum_i y_i ln (\\hat{y_i}) =  - \\sum_i y_i ln (\\frac{e^{X_iW_y}}{\\sum e^{X_iW}}) = - \\sum_i [0 * ln(0.3) + 0 * ln(0.3) + 1 * ln(0.4)] = -ln(0.4) $\n",
        "  * 简化我们的交叉熵函数: $J(\\theta) = - ln(\\hat{y_i})$ (负的最大似然).\n",
        "  * $J(\\theta) = - ln(\\hat{y_i}) = - ln (\\frac{e^{X_iW_y}}{\\sum_i e^{X_iW}}) $\n",
        "4. 根据模型权重计算损失梯度$J(\\theta)$。让我们假设类别的分类是互斥的(一种输入仅仅对应一个输出类别).\n",
        " * $\\frac{\\partial{J}}{\\partial{W_j}} = \\frac{\\partial{J}}{\\partial{y}}\\frac{\\partial{y}}{\\partial{W_j}} = - \\frac{1}{y}\\frac{\\partial{y}}{\\partial{W_j}} = - \\frac{1}{\\frac{e^{W_yX}}{\\sum e^{XW}}}\\frac{\\sum e^{XW}e^{W_yX}0 - e^{W_yX}e^{W_jX}X}{(\\sum e^{XW})^2} = \\frac{Xe^{W_j}X}{\\sum e^{XW}} = XP$\n",
        "  * $\\frac{\\partial{J}}{\\partial{W_y}} = \\frac{\\partial{J}}{\\partial{y}}\\frac{\\partial{y}}{\\partial{W_y}} = - \\frac{1}{y}\\frac{\\partial{y}}{\\partial{W_y}} = - \\frac{1}{\\frac{e^{W_yX}}{\\sum e^{XW}}}\\frac{\\sum e^{XW}e^{W_yX}X - e^{W_yX}e^{W_yX}X}{(\\sum e^{XW})^2} = \\frac{1}{P}(XP - XP^2) = X(P-1)$\n",
        "5. 使用梯度下降法来对权重做反向传播以更新模型权重。更新后的权重将会使不正确的类别(j)概率大大降低，从而升高正确的类别(y)概率。\n",
        "  * $W_i = W_i - \\alpha\\frac{\\partial{J}}{\\partial{W_i}}$\n",
        "6. 重复2 - 4步直到模型表现最好（也可以说直到损失收敛）。"
      ]
    },
    {
      "cell_type": "markdown",
      "metadata": {
        "id": "r_hKrjzdtTgM"
      },
      "source": [
        "# 数据"
      ]
    },
    {
      "cell_type": "markdown",
      "metadata": {
        "id": "PyccHrQztVEu"
      },
      "source": [
        "我们来加载在第三节课中用到的titanic数据集"
      ]
    },
    {
      "cell_type": "code",
      "metadata": {
        "id": "H385V4VUtWOv"
      },
      "source": [
        "from argparse import Namespace\n",
        "import matplotlib.pyplot as plt\n",
        "import numpy as np\n",
        "import pandas as pd\n",
        "import urllib.request"
      ],
      "execution_count": 12,
      "outputs": []
    },
    {
      "cell_type": "code",
      "metadata": {
        "id": "pL67TlZO6Zg4"
      },
      "source": [
        "# 参数\n",
        "args = Namespace(\n",
        "    seed=1234,\n",
        "    data_file=\"titanic.csv\",\n",
        "    train_size=0.75,\n",
        "    test_size=0.25,\n",
        "    num_epochs=100,\n",
        ")\n",
        "\n",
        "# 设置随即种子来保证实验结果的可重复性。\n",
        "np.random.seed(args.seed)"
      ],
      "execution_count": 10,
      "outputs": []
    },
    {
      "cell_type": "code",
      "metadata": {
        "id": "7sp_tSyItf1_"
      },
      "source": [
        "# 从GitHub上加载数据到notebook本地驱动\n",
        "url = \"https://raw.githubusercontent.com/biLove/titanic_data_analysis/master/titanic-data.csv\"\n",
        "response = urllib.request.urlopen(url)\n",
        "html = response.read()\n",
        "with open(args.data_file, 'wb') as f:\n",
        "    f.write(html)"
      ],
      "execution_count": 14,
      "outputs": []
    },
    {
      "cell_type": "code",
      "metadata": {
        "colab": {
          "base_uri": "https://localhost:8080/",
          "height": 255
        },
        "id": "7alqmyzXtgE8",
        "outputId": "731a1c10-bf3c-4546-ce62-4e340d0adf92"
      },
      "source": [
        "# 把CSV文件内容读到DataFrame中\n",
        "df = pd.read_csv(args.data_file, header=0)\n",
        "df.head()"
      ],
      "execution_count": 15,
      "outputs": [
        {
          "output_type": "execute_result",
          "data": {
            "text/html": [
              "<div>\n",
              "<style scoped>\n",
              "    .dataframe tbody tr th:only-of-type {\n",
              "        vertical-align: middle;\n",
              "    }\n",
              "\n",
              "    .dataframe tbody tr th {\n",
              "        vertical-align: top;\n",
              "    }\n",
              "\n",
              "    .dataframe thead th {\n",
              "        text-align: right;\n",
              "    }\n",
              "</style>\n",
              "<table border=\"1\" class=\"dataframe\">\n",
              "  <thead>\n",
              "    <tr style=\"text-align: right;\">\n",
              "      <th></th>\n",
              "      <th>PassengerId</th>\n",
              "      <th>Survived</th>\n",
              "      <th>Pclass</th>\n",
              "      <th>Name</th>\n",
              "      <th>Sex</th>\n",
              "      <th>Age</th>\n",
              "      <th>SibSp</th>\n",
              "      <th>Parch</th>\n",
              "      <th>Ticket</th>\n",
              "      <th>Fare</th>\n",
              "      <th>Cabin</th>\n",
              "      <th>Embarked</th>\n",
              "    </tr>\n",
              "  </thead>\n",
              "  <tbody>\n",
              "    <tr>\n",
              "      <th>0</th>\n",
              "      <td>1</td>\n",
              "      <td>0</td>\n",
              "      <td>3</td>\n",
              "      <td>Braund, Mr. Owen Harris</td>\n",
              "      <td>male</td>\n",
              "      <td>22.0</td>\n",
              "      <td>1</td>\n",
              "      <td>0</td>\n",
              "      <td>A/5 21171</td>\n",
              "      <td>7.2500</td>\n",
              "      <td>NaN</td>\n",
              "      <td>S</td>\n",
              "    </tr>\n",
              "    <tr>\n",
              "      <th>1</th>\n",
              "      <td>2</td>\n",
              "      <td>1</td>\n",
              "      <td>1</td>\n",
              "      <td>Cumings, Mrs. John Bradley (Florence Briggs Th...</td>\n",
              "      <td>female</td>\n",
              "      <td>38.0</td>\n",
              "      <td>1</td>\n",
              "      <td>0</td>\n",
              "      <td>PC 17599</td>\n",
              "      <td>71.2833</td>\n",
              "      <td>C85</td>\n",
              "      <td>C</td>\n",
              "    </tr>\n",
              "    <tr>\n",
              "      <th>2</th>\n",
              "      <td>3</td>\n",
              "      <td>1</td>\n",
              "      <td>3</td>\n",
              "      <td>Heikkinen, Miss. Laina</td>\n",
              "      <td>female</td>\n",
              "      <td>26.0</td>\n",
              "      <td>0</td>\n",
              "      <td>0</td>\n",
              "      <td>STON/O2. 3101282</td>\n",
              "      <td>7.9250</td>\n",
              "      <td>NaN</td>\n",
              "      <td>S</td>\n",
              "    </tr>\n",
              "    <tr>\n",
              "      <th>3</th>\n",
              "      <td>4</td>\n",
              "      <td>1</td>\n",
              "      <td>1</td>\n",
              "      <td>Futrelle, Mrs. Jacques Heath (Lily May Peel)</td>\n",
              "      <td>female</td>\n",
              "      <td>35.0</td>\n",
              "      <td>1</td>\n",
              "      <td>0</td>\n",
              "      <td>113803</td>\n",
              "      <td>53.1000</td>\n",
              "      <td>C123</td>\n",
              "      <td>S</td>\n",
              "    </tr>\n",
              "    <tr>\n",
              "      <th>4</th>\n",
              "      <td>5</td>\n",
              "      <td>0</td>\n",
              "      <td>3</td>\n",
              "      <td>Allen, Mr. William Henry</td>\n",
              "      <td>male</td>\n",
              "      <td>35.0</td>\n",
              "      <td>0</td>\n",
              "      <td>0</td>\n",
              "      <td>373450</td>\n",
              "      <td>8.0500</td>\n",
              "      <td>NaN</td>\n",
              "      <td>S</td>\n",
              "    </tr>\n",
              "  </tbody>\n",
              "</table>\n",
              "</div>"
            ],
            "text/plain": [
              "   PassengerId  Survived  Pclass  ...     Fare Cabin  Embarked\n",
              "0            1         0       3  ...   7.2500   NaN         S\n",
              "1            2         1       1  ...  71.2833   C85         C\n",
              "2            3         1       3  ...   7.9250   NaN         S\n",
              "3            4         1       1  ...  53.1000  C123         S\n",
              "4            5         0       3  ...   8.0500   NaN         S\n",
              "\n",
              "[5 rows x 12 columns]"
            ]
          },
          "metadata": {
            "tags": []
          },
          "execution_count": 15
        }
      ]
    },
    {
      "cell_type": "markdown",
      "metadata": {
        "id": "k-5Y4zLIoE6s"
      },
      "source": [
        "# Scikit-learn实现"
      ]
    },
    {
      "cell_type": "markdown",
      "metadata": {
        "id": "ILkbyBHQoIwE"
      },
      "source": [
        "**注意**: Scikit-learn中`LogisticRegression`类使用的是坐标下降法（coordinate descent）来做的拟合。然而，我们会使用Scikit-learn中的`SGDClassifier`类来做随机梯度下降。我们使用这个优化方法是因为在未来的几节课程中我们也会使用到它。\n",
        "\n",
        "**坐标下降法**：坐标下降法依次沿着坐标轴的方向最小化目标函数值\n",
        "\n",
        "![image.png](data:image/png;base64,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)"
      ]
    },
    {
      "cell_type": "code",
      "metadata": {
        "id": "W1MJODStIu8V"
      },
      "source": [
        "# 调包\n",
        "from sklearn.linear_model import SGDClassifier\n",
        "from sklearn.preprocessing import StandardScaler\n",
        "from sklearn.model_selection import train_test_split"
      ],
      "execution_count": 16,
      "outputs": []
    },
    {
      "cell_type": "code",
      "metadata": {
        "id": "kItBIOOCTi6p"
      },
      "source": [
        "# 预处理\n",
        "def preprocess(df):\n",
        "  \n",
        "    # 删除掉含有空值的行\n",
        "    df = df.dropna()\n",
        "\n",
        "    # 删除基于文本的特征 (我们以后的课程将会学习怎么使用它们)\n",
        "    features_to_drop = [\"Name\", \"Cabin\", \"Ticket\"]\n",
        "    df = df.drop(features_to_drop, axis=1)\n",
        "\n",
        "    # pclass, sex, 和 embarked 是类别变量\n",
        "    # 在上一个代码中有讲到如何处理类别变量\n",
        "    categorical_features = [\"Pclass\",\"Embarked\",\"Sex\"]\n",
        "    # 利用pandas实现one-hot编码\n",
        "    df = pd.get_dummies(df, columns=categorical_features)\n",
        "\n",
        "    return df"
      ],
      "execution_count": 19,
      "outputs": []
    },
    {
      "cell_type": "code",
      "metadata": {
        "colab": {
          "base_uri": "https://localhost:8080/",
          "height": 224
        },
        "id": "QwQHDh4xuYTB",
        "outputId": "5d23291b-83f8-4099-d8fd-0b9c4ad86e3a"
      },
      "source": [
        "# 数据预处理\n",
        "df = preprocess(df)\n",
        "df.head()"
      ],
      "execution_count": 20,
      "outputs": [
        {
          "output_type": "execute_result",
          "data": {
            "text/html": [
              "<div>\n",
              "<style scoped>\n",
              "    .dataframe tbody tr th:only-of-type {\n",
              "        vertical-align: middle;\n",
              "    }\n",
              "\n",
              "    .dataframe tbody tr th {\n",
              "        vertical-align: top;\n",
              "    }\n",
              "\n",
              "    .dataframe thead th {\n",
              "        text-align: right;\n",
              "    }\n",
              "</style>\n",
              "<table border=\"1\" class=\"dataframe\">\n",
              "  <thead>\n",
              "    <tr style=\"text-align: right;\">\n",
              "      <th></th>\n",
              "      <th>PassengerId</th>\n",
              "      <th>Survived</th>\n",
              "      <th>Age</th>\n",
              "      <th>SibSp</th>\n",
              "      <th>Parch</th>\n",
              "      <th>Fare</th>\n",
              "      <th>Pclass_1</th>\n",
              "      <th>Pclass_2</th>\n",
              "      <th>Pclass_3</th>\n",
              "      <th>Embarked_C</th>\n",
              "      <th>Embarked_Q</th>\n",
              "      <th>Embarked_S</th>\n",
              "      <th>Sex_female</th>\n",
              "      <th>Sex_male</th>\n",
              "    </tr>\n",
              "  </thead>\n",
              "  <tbody>\n",
              "    <tr>\n",
              "      <th>1</th>\n",
              "      <td>2</td>\n",
              "      <td>1</td>\n",
              "      <td>38.0</td>\n",
              "      <td>1</td>\n",
              "      <td>0</td>\n",
              "      <td>71.2833</td>\n",
              "      <td>1</td>\n",
              "      <td>0</td>\n",
              "      <td>0</td>\n",
              "      <td>1</td>\n",
              "      <td>0</td>\n",
              "      <td>0</td>\n",
              "      <td>1</td>\n",
              "      <td>0</td>\n",
              "    </tr>\n",
              "    <tr>\n",
              "      <th>3</th>\n",
              "      <td>4</td>\n",
              "      <td>1</td>\n",
              "      <td>35.0</td>\n",
              "      <td>1</td>\n",
              "      <td>0</td>\n",
              "      <td>53.1000</td>\n",
              "      <td>1</td>\n",
              "      <td>0</td>\n",
              "      <td>0</td>\n",
              "      <td>0</td>\n",
              "      <td>0</td>\n",
              "      <td>1</td>\n",
              "      <td>1</td>\n",
              "      <td>0</td>\n",
              "    </tr>\n",
              "    <tr>\n",
              "      <th>6</th>\n",
              "      <td>7</td>\n",
              "      <td>0</td>\n",
              "      <td>54.0</td>\n",
              "      <td>0</td>\n",
              "      <td>0</td>\n",
              "      <td>51.8625</td>\n",
              "      <td>1</td>\n",
              "      <td>0</td>\n",
              "      <td>0</td>\n",
              "      <td>0</td>\n",
              "      <td>0</td>\n",
              "      <td>1</td>\n",
              "      <td>0</td>\n",
              "      <td>1</td>\n",
              "    </tr>\n",
              "    <tr>\n",
              "      <th>10</th>\n",
              "      <td>11</td>\n",
              "      <td>1</td>\n",
              "      <td>4.0</td>\n",
              "      <td>1</td>\n",
              "      <td>1</td>\n",
              "      <td>16.7000</td>\n",
              "      <td>0</td>\n",
              "      <td>0</td>\n",
              "      <td>1</td>\n",
              "      <td>0</td>\n",
              "      <td>0</td>\n",
              "      <td>1</td>\n",
              "      <td>1</td>\n",
              "      <td>0</td>\n",
              "    </tr>\n",
              "    <tr>\n",
              "      <th>11</th>\n",
              "      <td>12</td>\n",
              "      <td>1</td>\n",
              "      <td>58.0</td>\n",
              "      <td>0</td>\n",
              "      <td>0</td>\n",
              "      <td>26.5500</td>\n",
              "      <td>1</td>\n",
              "      <td>0</td>\n",
              "      <td>0</td>\n",
              "      <td>0</td>\n",
              "      <td>0</td>\n",
              "      <td>1</td>\n",
              "      <td>1</td>\n",
              "      <td>0</td>\n",
              "    </tr>\n",
              "  </tbody>\n",
              "</table>\n",
              "</div>"
            ],
            "text/plain": [
              "    PassengerId  Survived   Age  ...  Embarked_S  Sex_female  Sex_male\n",
              "1             2         1  38.0  ...           0           1         0\n",
              "3             4         1  35.0  ...           1           1         0\n",
              "6             7         0  54.0  ...           1           0         1\n",
              "10           11         1   4.0  ...           1           1         0\n",
              "11           12         1  58.0  ...           1           1         0\n",
              "\n",
              "[5 rows x 14 columns]"
            ]
          },
          "metadata": {
            "tags": []
          },
          "execution_count": 20
        }
      ]
    },
    {
      "cell_type": "code",
      "metadata": {
        "colab": {
          "base_uri": "https://localhost:8080/"
        },
        "id": "wsGRZNNiUTqj",
        "outputId": "7776016d-7886-47c2-fb45-d11a35a80b0d"
      },
      "source": [
        "# 划分数据到训练集和测试集\n",
        "mask = np.random.rand(len(df)) < args.train_size\n",
        "train_df = df[mask]\n",
        "test_df = df[~mask]\n",
        "print (\"Train size: {0}, test size: {1}\".format(len(train_df), len(test_df)))"
      ],
      "execution_count": 21,
      "outputs": [
        {
          "output_type": "stream",
          "text": [
            "Train size: 131, test size: 52\n"
          ],
          "name": "stdout"
        }
      ]
    },
    {
      "cell_type": "markdown",
      "metadata": {
        "id": "oZKxFmATU95M"
      },
      "source": [
        "**注意**: 如果你有类似标准化的预处理步骤，你需要在划分完训练集和测试集之后再使用它们。这是因为我们不可能从测试集中学到任何有用的信息。"
      ]
    },
    {
      "cell_type": "code",
      "metadata": {
        "id": "cLzL_LJd4vQ-"
      },
      "source": [
        "# 分离 X 和 y\n",
        "X_train = train_df.drop([\"Survived\"], axis=1)\n",
        "y_train = train_df[\"Survived\"]\n",
        "X_test = test_df.drop([\"Survived\"], axis=1)\n",
        "y_test = test_df[\"Survived\"]"
      ],
      "execution_count": 23,
      "outputs": []
    },
    {
      "cell_type": "code",
      "metadata": {
        "colab": {
          "base_uri": "https://localhost:8080/"
        },
        "id": "AdTYbV472UNJ",
        "outputId": "1d7d8be1-8b99-47fe-fead-10507a8d29ca"
      },
      "source": [
        "# 标准化训练数据 (mean=0, std=1)\n",
        "X_scaler = StandardScaler().fit(X_train)\n",
        "\n",
        "# 标准化训练和测试数据  (不要标准化标签分类y)\n",
        "standardized_X_train = X_scaler.transform(X_train)\n",
        "standardized_X_test = X_scaler.transform(X_test)\n",
        "\n",
        "# 检查\n",
        "print (\"mean:\", np.mean(standardized_X_train, axis=0)) # mean 应该为 ~0\n",
        "print (\"std:\", np.std(standardized_X_train, axis=0))   # std 应该为 1"
      ],
      "execution_count": 24,
      "outputs": [
        {
          "output_type": "stream",
          "text": [
            "mean: [ 0.00000000e+00 -2.23739602e-16 -1.35599759e-17  2.71199517e-17\n",
            " -1.35599759e-16  6.77998794e-17  0.00000000e+00  1.69499698e-17\n",
            "  7.45798673e-17  1.35599759e-17  5.59349005e-17  6.61048824e-17\n",
            "  8.47498492e-17]\n",
            "std: [1. 1. 1. 1. 1. 1. 1. 1. 1. 1. 1. 1. 1.]\n"
          ],
          "name": "stdout"
        }
      ]
    },
    {
      "cell_type": "code",
      "metadata": {
        "id": "7-vm9AZm1_f9"
      },
      "source": [
        "# 初始化模型\n",
        "# 随机梯度下降分类器并不是一个独立的算法，而是一系列用随机梯度下降求解参数的算法集合\n",
        "# loss=\"log\":logistic回归,只有在这种参数情况下才会有predict_proba函数\n",
        "log_reg = SGDClassifier(loss=\"log\", penalty=\"none\", max_iter=args.num_epochs, \n",
        "                        random_state=args.seed)"
      ],
      "execution_count": 25,
      "outputs": []
    },
    {
      "cell_type": "code",
      "metadata": {
        "colab": {
          "base_uri": "https://localhost:8080/"
        },
        "id": "0e8U9NNluYVp",
        "outputId": "f677bf3e-2d8d-4c7d-a341-37bb56810241"
      },
      "source": [
        "# 训练\n",
        "log_reg.fit(X=standardized_X_train, y=y_train)"
      ],
      "execution_count": 26,
      "outputs": [
        {
          "output_type": "execute_result",
          "data": {
            "text/plain": [
              "SGDClassifier(alpha=0.0001, average=False, class_weight=None,\n",
              "              early_stopping=False, epsilon=0.1, eta0=0.0, fit_intercept=True,\n",
              "              l1_ratio=0.15, learning_rate='optimal', loss='log', max_iter=100,\n",
              "              n_iter_no_change=5, n_jobs=None, penalty='none', power_t=0.5,\n",
              "              random_state=1234, shuffle=True, tol=0.001,\n",
              "              validation_fraction=0.1, verbose=0, warm_start=False)"
            ]
          },
          "metadata": {
            "tags": []
          },
          "execution_count": 26
        }
      ]
    },
    {
      "cell_type": "code",
      "metadata": {
        "colab": {
          "base_uri": "https://localhost:8080/"
        },
        "id": "hA7Oz97NAe8A",
        "outputId": "f4984fb0-674d-4bab-8a64-bf1eac7fcd3c"
      },
      "source": [
        "# 概率\n",
        "pred_test = log_reg.predict_proba(standardized_X_test)\n",
        "print (pred_test[:5])"
      ],
      "execution_count": 27,
      "outputs": [
        {
          "output_type": "stream",
          "text": [
            "[[0.00000000e+00 1.00000000e+00]\n",
            " [9.99820859e-01 1.79141442e-04]\n",
            " [7.80708831e-13 1.00000000e+00]\n",
            " [1.04881875e-02 9.89511812e-01]\n",
            " [1.00000000e+00 1.32628986e-21]]\n"
          ],
          "name": "stdout"
        }
      ]
    },
    {
      "cell_type": "code",
      "metadata": {
        "colab": {
          "base_uri": "https://localhost:8080/"
        },
        "id": "-jZtTd7F6_ps",
        "outputId": "cc1d58bf-d935-4a49-b90a-2ae9cb4f9753"
      },
      "source": [
        "# 预测 (未标准化)\n",
        "pred_train = log_reg.predict(standardized_X_train) \n",
        "pred_test = log_reg.predict(standardized_X_test)\n",
        "print (pred_test)"
      ],
      "execution_count": 28,
      "outputs": [
        {
          "output_type": "stream",
          "text": [
            "[1 0 1 1 0 0 1 1 0 1 1 1 1 1 1 1 1 1 1 1 1 1 0 0 1 1 1 1 1 1 1 0 1 1 1 1 1\n",
            " 1 1 1 0 1 1 1 1 1 1 1 1 1 1 1]\n"
          ],
          "name": "stdout"
        }
      ]
    },
    {
      "cell_type": "markdown",
      "metadata": {
        "id": "dM7iYW8ANYjy"
      },
      "source": [
        "# 评估指标"
      ]
    },
    {
      "cell_type": "code",
      "metadata": {
        "id": "uFXbczqu8Rno"
      },
      "source": [
        "from sklearn.metrics import accuracy_score"
      ],
      "execution_count": 29,
      "outputs": []
    },
    {
      "cell_type": "code",
      "metadata": {
        "colab": {
          "base_uri": "https://localhost:8080/"
        },
        "id": "sEjansj78Rqe",
        "outputId": "7a4ff5cc-a66c-4326-c35a-f69d2319c98e"
      },
      "source": [
        "# 正确率\n",
        "train_acc = accuracy_score(y_train, pred_train)\n",
        "test_acc = accuracy_score(y_test, pred_test)\n",
        "print (\"train acc: {0:.2f}, test acc: {1:.2f}\".format(train_acc, test_acc))"
      ],
      "execution_count": 30,
      "outputs": [
        {
          "output_type": "stream",
          "text": [
            "train acc: 0.80, test acc: 0.65\n"
          ],
          "name": "stdout"
        }
      ]
    },
    {
      "cell_type": "markdown",
      "metadata": {
        "id": "WijzY-vDNbE9"
      },
      "source": [
        "到目前为止我们用的是正确率作为我们的评价指标来评定模型的好坏程度。但是我们还有很多的评价指标来对模型进行评价。\n",
        "\n",
        "<img src=\"https://raw.githubusercontent.com/GokuMohandas/practicalAI/master/images/metrics.jpg\" width=400>"
      ]
    },
    {
      "cell_type": "markdown",
      "metadata": {
        "id": "80MwyE0yOr-k"
      },
      "source": [
        "评价指标的选择真的要看应用的情景。\n",
        "positive - true, 1, tumor, issue, 等等, negative - false, 0, not tumor, not issue, 等等。\n",
        "\n",
        "$\\text{accuracy}（正确率） = \\frac{TP+TN}{TP+TN+FP+FN}$ \n",
        "\n",
        "$\\text{recall}（召回率）= \\frac{TP}{TP+FN}$ → (有多个正例被我分为正例)\n",
        "\n",
        "$\\text{precision} （精确率）= \\frac{TP}{TP+FP}$ → (在所有我预测为正例的样本下，有多少是对的)\n",
        "\n",
        "$F_1 = 2 * \\frac{\\text{precision }  *  \\text{ recall}}{\\text{precision } + \\text{ recall}}$\n",
        "\n",
        "where: \n",
        "* TP: 将正类预测为正类数\n",
        "* TN: 将负类预测为负类数\n",
        "* FP: 将负类预测为正类数\n",
        "* FN: 将正类预测为负类数"
      ]
    },
    {
      "cell_type": "code",
      "metadata": {
        "id": "opmu3hJm9LXA"
      },
      "source": [
        "import itertools\n",
        "# classification_report：自动生成准确率、召回率、F1分数\n",
        "from sklearn.metrics import classification_report, confusion_matrix"
      ],
      "execution_count": 31,
      "outputs": []
    },
    {
      "cell_type": "code",
      "metadata": {
        "id": "wAzOL8h29m82"
      },
      "source": [
        "# 绘制混淆矩阵\n",
        "def plot_confusion_matrix(cm, classes):\n",
        "    cmap=plt.cm.Blues\n",
        "    plt.imshow(cm, interpolation='nearest', cmap=cmap)\n",
        "    plt.title(\"Confusion Matrix\")\n",
        "    plt.colorbar()\n",
        "    tick_marks = np.arange(len(classes))\n",
        "    plt.xticks(tick_marks, classes, rotation=45)\n",
        "    plt.yticks(tick_marks, classes)\n",
        "    plt.grid(False)\n",
        "\n",
        "    fmt = 'd'\n",
        "    thresh = cm.max() / 2.\n",
        "    for i, j in itertools.product(range(cm.shape[0]), range(cm.shape[1])):\n",
        "        plt.text(j, i, format(cm[i, j], 'd'),\n",
        "                 horizontalalignment=\"center\",\n",
        "                 color=\"white\" if cm[i, j] > thresh else \"black\")\n",
        "\n",
        "    plt.ylabel('True label')\n",
        "    plt.xlabel('Predicted label')\n",
        "    plt.tight_layout()"
      ],
      "execution_count": 32,
      "outputs": []
    },
    {
      "cell_type": "code",
      "metadata": {
        "colab": {
          "base_uri": "https://localhost:8080/",
          "height": 459
        },
        "id": "KqUVzahQ-5ic",
        "outputId": "037c4c27-0846-4c9d-a72a-cbf069468267"
      },
      "source": [
        "# 混淆矩阵\n",
        "cm = confusion_matrix(y_test, pred_test)\n",
        "plot_confusion_matrix(cm=cm, classes=[\"died\", \"survived\"])\n",
        "print (classification_report(y_test, pred_test))"
      ],
      "execution_count": 33,
      "outputs": [
        {
          "output_type": "stream",
          "text": [
            "              precision    recall  f1-score   support\n",
            "\n",
            "           0       0.75      0.27      0.40        22\n",
            "           1       0.64      0.93      0.76        30\n",
            "\n",
            "    accuracy                           0.65        52\n",
            "   macro avg       0.69      0.60      0.58        52\n",
            "weighted avg       0.68      0.65      0.61        52\n",
            "\n"
          ],
          "name": "stdout"
        },
        {
          "output_type": "display_data",
          "data": {
            "image/png": "[encoded data removed]",
            "text/plain": [
              "<Figure size 432x288 with 2 Axes>"
            ]
          },
          "metadata": {
            "tags": [],
            "needs_background": "light"
          }
        }
      ]
    },
    {
      "cell_type": "markdown",
      "metadata": {
        "id": "iMk7tN1h98x9"
      },
      "source": [
        "当我们有大于两个标签（二分类）的时候，我们可以选择在微观/宏观层面计算评估指标（每个clas标签）、权重等。 更详细内容可以参考[offical docs](http://scikit-learn.org/stable/modules/generated/sklearn.metrics.precision_recall_fscore_support.html)."
      ]
    },
    {
      "cell_type": "markdown",
      "metadata": {
        "id": "9v6zc1_1PWnz"
      },
      "source": [
        "# 推论"
      ]
    },
    {
      "cell_type": "markdown",
      "metadata": {
        "id": "Zl9euDuMPYTN"
      },
      "source": [
        "现在我们来看看你是否会在Titanic中存活下来"
      ]
    },
    {
      "cell_type": "code",
      "metadata": {
        "colab": {
          "base_uri": "https://localhost:8080/",
          "height": 80
        },
        "id": "kX9428-EPUzx",
        "outputId": "22d20472-ca19-4b93-f7ad-ff4c625d6fef"
      },
      "source": [
        "# 输入你自己的信息\n",
        "X_infer = pd.DataFrame([{\"Name\": \"Goku Mohandas\", \"Cabin\": \"E\", \"Ticket\": \"E44\", \n",
        "                         \"Pclass\": 1, \"Age\": 24, \"Sibsp\": 1, \"Parch\": 2, \n",
        "                         \"Fare\": 100, \"Embarked\": \"C\", \"Sex\": \"male\"}])\n",
        "X_infer.head()"
      ],
      "execution_count": 36,
      "outputs": [
        {
          "output_type": "execute_result",
          "data": {
            "text/html": [
              "<div>\n",
              "<style scoped>\n",
              "    .dataframe tbody tr th:only-of-type {\n",
              "        vertical-align: middle;\n",
              "    }\n",
              "\n",
              "    .dataframe tbody tr th {\n",
              "        vertical-align: top;\n",
              "    }\n",
              "\n",
              "    .dataframe thead th {\n",
              "        text-align: right;\n",
              "    }\n",
              "</style>\n",
              "<table border=\"1\" class=\"dataframe\">\n",
              "  <thead>\n",
              "    <tr style=\"text-align: right;\">\n",
              "      <th></th>\n",
              "      <th>Name</th>\n",
              "      <th>Cabin</th>\n",
              "      <th>Ticket</th>\n",
              "      <th>Pclass</th>\n",
              "      <th>Age</th>\n",
              "      <th>Sibsp</th>\n",
              "      <th>Parch</th>\n",
              "      <th>Fare</th>\n",
              "      <th>Embarked</th>\n",
              "      <th>Sex</th>\n",
              "    </tr>\n",
              "  </thead>\n",
              "  <tbody>\n",
              "    <tr>\n",
              "      <th>0</th>\n",
              "      <td>Goku Mohandas</td>\n",
              "      <td>E</td>\n",
              "      <td>E44</td>\n",
              "      <td>1</td>\n",
              "      <td>24</td>\n",
              "      <td>1</td>\n",
              "      <td>2</td>\n",
              "      <td>100</td>\n",
              "      <td>C</td>\n",
              "      <td>male</td>\n",
              "    </tr>\n",
              "  </tbody>\n",
              "</table>\n",
              "</div>"
            ],
            "text/plain": [
              "            Name Cabin Ticket  Pclass  Age  Sibsp  Parch  Fare Embarked   Sex\n",
              "0  Goku Mohandas     E    E44       1   24      1      2   100        C  male"
            ]
          },
          "metadata": {
            "tags": []
          },
          "execution_count": 36
        }
      ]
    },
    {
      "cell_type": "code",
      "metadata": {
        "colab": {
          "base_uri": "https://localhost:8080/",
          "height": 80
        },
        "id": "c6OAAQoaWxAb",
        "outputId": "f754d08b-c6ac-45c8-f2fb-bc279fa6eb97"
      },
      "source": [
        "# 进行预处理\n",
        "X_infer = preprocess(X_infer)\n",
        "X_infer.head()"
      ],
      "execution_count": 37,
      "outputs": [
        {
          "output_type": "execute_result",
          "data": {
            "text/html": [
              "<div>\n",
              "<style scoped>\n",
              "    .dataframe tbody tr th:only-of-type {\n",
              "        vertical-align: middle;\n",
              "    }\n",
              "\n",
              "    .dataframe tbody tr th {\n",
              "        vertical-align: top;\n",
              "    }\n",
              "\n",
              "    .dataframe thead th {\n",
              "        text-align: right;\n",
              "    }\n",
              "</style>\n",
              "<table border=\"1\" class=\"dataframe\">\n",
              "  <thead>\n",
              "    <tr style=\"text-align: right;\">\n",
              "      <th></th>\n",
              "      <th>Age</th>\n",
              "      <th>Sibsp</th>\n",
              "      <th>Parch</th>\n",
              "      <th>Fare</th>\n",
              "      <th>Pclass_1</th>\n",
              "      <th>Embarked_C</th>\n",
              "      <th>Sex_male</th>\n",
              "    </tr>\n",
              "  </thead>\n",
              "  <tbody>\n",
              "    <tr>\n",
              "      <th>0</th>\n",
              "      <td>24</td>\n",
              "      <td>1</td>\n",
              "      <td>2</td>\n",
              "      <td>100</td>\n",
              "      <td>1</td>\n",
              "      <td>1</td>\n",
              "      <td>1</td>\n",
              "    </tr>\n",
              "  </tbody>\n",
              "</table>\n",
              "</div>"
            ],
            "text/plain": [
              "   Age  Sibsp  Parch  Fare  Pclass_1  Embarked_C  Sex_male\n",
              "0   24      1      2   100         1           1         1"
            ]
          },
          "metadata": {
            "tags": []
          },
          "execution_count": 37
        }
      ]
    },
    {
      "cell_type": "code",
      "metadata": {
        "colab": {
          "base_uri": "https://localhost:8080/",
          "height": 80
        },
        "id": "48sj5A0mX5Yw",
        "outputId": "f2d5af6d-17a0-4c02-a2e4-24640d81e7b9"
      },
      "source": [
        "# 添加缺失列向量\n",
        "missing_features = set(X_test.columns) - set(X_infer.columns)\n",
        "for feature in missing_features:\n",
        "    X_infer[feature] = 0\n",
        "\n",
        "# 重整title\n",
        "X_infer = X_infer[X_train.columns]\n",
        "X_infer.head()"
      ],
      "execution_count": 38,
      "outputs": [
        {
          "output_type": "execute_result",
          "data": {
            "text/html": [
              "<div>\n",
              "<style scoped>\n",
              "    .dataframe tbody tr th:only-of-type {\n",
              "        vertical-align: middle;\n",
              "    }\n",
              "\n",
              "    .dataframe tbody tr th {\n",
              "        vertical-align: top;\n",
              "    }\n",
              "\n",
              "    .dataframe thead th {\n",
              "        text-align: right;\n",
              "    }\n",
              "</style>\n",
              "<table border=\"1\" class=\"dataframe\">\n",
              "  <thead>\n",
              "    <tr style=\"text-align: right;\">\n",
              "      <th></th>\n",
              "      <th>PassengerId</th>\n",
              "      <th>Age</th>\n",
              "      <th>SibSp</th>\n",
              "      <th>Parch</th>\n",
              "      <th>Fare</th>\n",
              "      <th>Pclass_1</th>\n",
              "      <th>Pclass_2</th>\n",
              "      <th>Pclass_3</th>\n",
              "      <th>Embarked_C</th>\n",
              "      <th>Embarked_Q</th>\n",
              "      <th>Embarked_S</th>\n",
              "      <th>Sex_female</th>\n",
              "      <th>Sex_male</th>\n",
              "    </tr>\n",
              "  </thead>\n",
              "  <tbody>\n",
              "    <tr>\n",
              "      <th>0</th>\n",
              "      <td>0</td>\n",
              "      <td>24</td>\n",
              "      <td>0</td>\n",
              "      <td>2</td>\n",
              "      <td>100</td>\n",
              "      <td>1</td>\n",
              "      <td>0</td>\n",
              "      <td>0</td>\n",
              "      <td>1</td>\n",
              "      <td>0</td>\n",
              "      <td>0</td>\n",
              "      <td>0</td>\n",
              "      <td>1</td>\n",
              "    </tr>\n",
              "  </tbody>\n",
              "</table>\n",
              "</div>"
            ],
            "text/plain": [
              "   PassengerId  Age  SibSp  Parch  ...  Embarked_Q  Embarked_S  Sex_female  Sex_male\n",
              "0            0   24      0      2  ...           0           0           0         1\n",
              "\n",
              "[1 rows x 13 columns]"
            ]
          },
          "metadata": {
            "tags": []
          },
          "execution_count": 38
        }
      ]
    },
    {
      "cell_type": "code",
      "metadata": {
        "id": "rP_i8w9IXFiM"
      },
      "source": [
        "# 标准化\n",
        "standardized_X_infer = X_scaler.transform(X_infer)"
      ],
      "execution_count": 39,
      "outputs": []
    },
    {
      "cell_type": "code",
      "metadata": {
        "colab": {
          "base_uri": "https://localhost:8080/"
        },
        "id": "7O5PbOAvXTzF",
        "outputId": "c5f7e45f-e331-4639-de8a-3d6311de51a3"
      },
      "source": [
        "# 预测\n",
        "y_infer = log_reg.predict_proba(standardized_X_infer)\n",
        "classes = {0: \"died\", 1: \"survived\"}\n",
        "_class = np.argmax(y_infer)\n",
        "print (\"Looks like I would've {0} with about {1:.0f}% probability on the Titanic expedition!\".format(\n",
        "    classes[_class], y_infer[0][_class]*100.0))"
      ],
      "execution_count": 40,
      "outputs": [
        {
          "output_type": "stream",
          "text": [
            "Looks like I would've died with about 97% probability on the Titanic expedition!\n"
          ],
          "name": "stdout"
        }
      ]
    },
    {
      "cell_type": "markdown",
      "metadata": {
        "id": "8PLPFFP67tvL"
      },
      "source": [
        "# 可解释性"
      ]
    },
    {
      "cell_type": "markdown",
      "metadata": {
        "id": "jv6LKNXO7uch"
      },
      "source": [
        "哪些特征是最有影响力的？"
      ]
    },
    {
      "cell_type": "code",
      "metadata": {
        "colab": {
          "base_uri": "https://localhost:8080/"
        },
        "id": "KTSpxbwy7ugl",
        "outputId": "911e34e9-33a5-4e28-9c4e-0958086db450"
      },
      "source": [
        "# 未标准化系数\n",
        "coef = log_reg.coef_ / X_scaler.scale_\n",
        "intercept = log_reg.intercept_ - np.sum((coef * X_scaler.mean_))\n",
        "print (coef)\n",
        "print (intercept)"
      ],
      "execution_count": 41,
      "outputs": [
        {
          "output_type": "stream",
          "text": [
            "[[ 4.15928305e-02 -1.19740243e+00  5.57094320e+00 -2.57811387e+00\n",
            "   1.18606066e-02 -9.79445155e+00  1.29396131e+01  2.72445322e+00\n",
            "  -1.26901787e+00 -4.40028475e+01  4.20489118e+00  1.26098047e+01\n",
            "  -1.26098047e+01]]\n",
            "[52.98792774]\n"
          ],
          "name": "stdout"
        }
      ]
    },
    {
      "cell_type": "markdown",
      "metadata": {
        "id": "xJgiIupyE0Hd"
      },
      "source": [
        "正系数表示与阳性类的相关性（1 = 存活），负系数表示与阴性类的相关性（0 = 死亡）。"
      ]
    },
    {
      "cell_type": "code",
      "metadata": {
        "colab": {
          "base_uri": "https://localhost:8080/"
        },
        "id": "RKRB0er2C5l-",
        "outputId": "b2265bd2-bb7f-4df2-cb5e-184818d3dd1e"
      },
      "source": [
        "indices = np.argsort(coef)\n",
        "features = list(X_train.columns)\n",
        "print (\"Features correlated with death:\", [features[i] for i in indices[0][:3]])\n",
        "print (\"Features correlated with survival:\", [features[i] for i in indices[0][-3:]])"
      ],
      "execution_count": 42,
      "outputs": [
        {
          "output_type": "stream",
          "text": [
            "Features correlated with death: ['Embarked_Q', 'Sex_male', 'Pclass_1']\n",
            "Features correlated with survival: ['SibSp', 'Sex_female', 'Pclass_2']\n"
          ],
          "name": "stdout"
        }
      ]
    },
    {
      "cell_type": "markdown",
      "metadata": {
        "id": "RhhFw3Kg-4aL"
      },
      "source": [
        "### 非标准化系数的证明:\n",
        "\n"
      ]
    },
    {
      "cell_type": "markdown",
      "metadata": {
        "id": "ER0HFHXj-4h8"
      },
      "source": [
        "注意我们的X和y都已经标准化了。\n",
        "\n",
        "$\\mathbb{E}[y] = W_0 + \\sum_{j=1}^{k}W_jz_j$\n",
        "\n",
        "$z_j = \\frac{x_j - \\bar{x}_j}{\\sigma_j}$\n",
        "\n",
        "$ \\hat{y} = \\hat{W_0} + \\sum_{j=1}^{k}\\hat{W_j}z_j $\n",
        "\n",
        "$\\hat{y} = \\hat{W_0} + \\sum_{j=1}^{k} \\hat{W}_j (\\frac{x_j - \\bar{x}_j}{\\sigma_j}) $\n",
        "\n",
        "$\\hat{y} = (\\hat{W_0} - \\sum_{j=1}^{k} \\hat{W}_j\\frac{\\bar{x}_j}{\\sigma_j}) +  \\sum_{j=1}^{k} (\\frac{\\hat{w}_j}{\\sigma_j})x_j$"
      ]
    },
    {
      "cell_type": "markdown",
      "metadata": {
        "id": "5yBZLVHwGKSj"
      },
      "source": [
        "# K折交叉验证"
      ]
    },
    {
      "cell_type": "markdown",
      "metadata": {
        "id": "fHyLTMAAGJ_x"
      },
      "source": [
        "交叉验证是一个重采样的模型评估方法。与其我们在一开始就仅仅划分一次训练集和验证集，我们用交叉验证来划分k(通常 k=5 或者 10)次不同的训练集和验证集。\n",
        "\n",
        "步骤:\n",
        "1.   随机打乱训练数据集*train*。\n",
        "2.   将数据集分割成不同的k个片段。\n",
        "3.   在k次的每次循环中选择一个片段来当作验证集，其余的所有片段当成训练集。\n",
        "4.   重复这个过程使每个片段都有可能成为训练集或者测试集的一部分。\n",
        "5.   随机初始化权重来训练模型。\n",
        "6.   在k个循环中每次都要重新初始化模型，但是权重要保持相同的随机初始化，然后再在验证集中进行验证。\n",
        "\n"
      ]
    },
    {
      "cell_type": "code",
      "metadata": {
        "id": "6XB6X1b0KcvJ"
      },
      "source": [
        "from sklearn.model_selection import cross_val_score"
      ],
      "execution_count": 43,
      "outputs": []
    },
    {
      "cell_type": "code",
      "metadata": {
        "id": "UIqKmAEtVWMg",
        "outputId": "7e6d3e98-0d56-489f-d252-bf5be76859ac"
      },
      "source": [
        "#  K折交叉验证\n",
        "log_reg = SGDClassifier(loss=\"log\", penalty=\"none\", max_iter=args.num_epochs)\n",
        "scores = cross_val_score(log_reg, standardized_X_train, y_train, cv=10, scoring=\"accuracy\")\n",
        "print(\"Scores:\", scores)\n",
        "print(\"Mean:\", scores.mean())\n",
        "print(\"Standard Deviation:\", scores.std())"
      ],
      "execution_count": null,
      "outputs": [
        {
          "output_type": "stream",
          "text": [
            "Scores: [0.66666667 0.7        0.7        0.4        0.7        0.7\n",
            " 0.85       0.7        0.68421053 0.78947368]\n",
            "Mean: 0.6890350877192982\n",
            "Standard Deviation: 0.10984701440790533\n"
          ],
          "name": "stdout"
        }
      ]
    },
    {
      "cell_type": "markdown",
      "metadata": {
        "id": "L0aQUomQoni1"
      },
      "source": [
        "# TODO"
      ]
    },
    {
      "cell_type": "markdown",
      "metadata": {
        "id": "jCpKSu53EA9-"
      },
      "source": [
        "- interaction terms\n",
        "- interpreting odds ratio\n",
        "- simple example with coordinate descent method (sklearn.linear_model.LogisticRegression)"
      ]
    }
  ]
}