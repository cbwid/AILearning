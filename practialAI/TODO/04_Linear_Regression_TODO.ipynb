{
 "cells": [
  {
   "cell_type": "markdown",
   "metadata": {},
   "source": [
    "# 线性回归\n",
    "#### 线性回归是利用数理统计中回归分析，来确定两种或两种以上变量间相互依赖的定量关系的一种统计分析方法，运用十分广泛。其表达形式为y = w'x+e，e为误差服从均值为0的正态分布。回归分析中，只包括一个自变量和一个因变量，且二者的关系可用一条直线近似表示，这种回归分析称为一元线性回归分析。如果回归分析中包括两个或两个以上的自变量，且因变量和自变量之间是线性关系，则称为多元线性回归分析。"
   ]
  },
  {
   "cell_type": "markdown",
   "metadata": {},
   "source": [
    "# 1、 多元线性回归\n",
    "#### $h(x) = \\theta_0*x_1+\\theta_1*x_2+...+\\theta_n*x_n$"
   ]
  },
  {
   "cell_type": "code",
   "execution_count": 1,
   "metadata": {},
   "outputs": [],
   "source": [
    "from matplotlib import pyplot\n",
    "from argparse import Namespace\n",
    "import numpy as np\n",
    "import pandas as pd\n",
    "import random"
   ]
  },
  {
   "cell_type": "code",
   "execution_count": 2,
   "metadata": {},
   "outputs": [],
   "source": [
    "# 参数\n",
    "args=Namespace(\n",
    "        seed=1234,\n",
    "        num_samples=100,\n",
    "        train_size=0.75,\n",
    "        test_size=0.25,\n",
    "        num_epochs=100,\n",
    ")\n",
    "np.random.seed(args.seed)"
   ]
  },
  {
   "cell_type": "code",
   "execution_count": 3,
   "metadata": {},
   "outputs": [],
   "source": [
    "# 自己生成一些假数据应用在多元回归上\n",
    "def generate_Polyomial_data(num_samples):\n",
    "    X1 = np.random.randint(1,20,num_samples)\n",
    "    X2 = np.random.randint(1,10,num_samples)\n",
    "    y = 0.65*X1+9.38*X2+4.7\n",
    "    return X1,X2,y"
   ]
  },
  {
   "cell_type": "code",
   "execution_count": 4,
   "metadata": {},
   "outputs": [
    {
     "data": {
      "text/html": [
       "<div>\n",
       "<style scoped>\n",
       "    .dataframe tbody tr th:only-of-type {\n",
       "        vertical-align: middle;\n",
       "    }\n",
       "\n",
       "    .dataframe tbody tr th {\n",
       "        vertical-align: top;\n",
       "    }\n",
       "\n",
       "    .dataframe thead th {\n",
       "        text-align: right;\n",
       "    }\n",
       "</style>\n",
       "<table border=\"1\" class=\"dataframe\">\n",
       "  <thead>\n",
       "    <tr style=\"text-align: right;\">\n",
       "      <th></th>\n",
       "      <th>X1</th>\n",
       "      <th>X2</th>\n",
       "      <th>y</th>\n",
       "    </tr>\n",
       "  </thead>\n",
       "  <tbody>\n",
       "    <tr>\n",
       "      <th>0</th>\n",
       "      <td>16.0</td>\n",
       "      <td>7.0</td>\n",
       "      <td>80.76</td>\n",
       "    </tr>\n",
       "    <tr>\n",
       "      <th>1</th>\n",
       "      <td>7.0</td>\n",
       "      <td>9.0</td>\n",
       "      <td>93.67</td>\n",
       "    </tr>\n",
       "    <tr>\n",
       "      <th>2</th>\n",
       "      <td>13.0</td>\n",
       "      <td>5.0</td>\n",
       "      <td>60.05</td>\n",
       "    </tr>\n",
       "    <tr>\n",
       "      <th>3</th>\n",
       "      <td>16.0</td>\n",
       "      <td>9.0</td>\n",
       "      <td>99.52</td>\n",
       "    </tr>\n",
       "    <tr>\n",
       "      <th>4</th>\n",
       "      <td>18.0</td>\n",
       "      <td>2.0</td>\n",
       "      <td>35.16</td>\n",
       "    </tr>\n",
       "  </tbody>\n",
       "</table>\n",
       "</div>"
      ],
      "text/plain": [
       "     X1   X2      y\n",
       "0  16.0  7.0  80.76\n",
       "1   7.0  9.0  93.67\n",
       "2  13.0  5.0  60.05\n",
       "3  16.0  9.0  99.52\n",
       "4  18.0  2.0  35.16"
      ]
     },
     "execution_count": 4,
     "metadata": {},
     "output_type": "execute_result"
    }
   ],
   "source": [
    "X1,X2,y = generate_Polyomial_data(args.num_samples)\n",
    "data=np.vstack([X1,X2,y]).T\n",
    "df= pd.DataFrame(data,columns=['X1','X2','y'])\n",
    "df.head()"
   ]
  },
  {
   "cell_type": "code",
   "execution_count": 5,
   "metadata": {},
   "outputs": [],
   "source": [
    "from sklearn.preprocessing import StandardScaler\n",
    "from sklearn.model_selection import train_test_split"
   ]
  },
  {
   "cell_type": "code",
   "execution_count": 6,
   "metadata": {},
   "outputs": [
    {
     "name": "stdout",
     "output_type": "stream",
     "text": [
      "      X1   X2\n",
      "0   16.0  7.0\n",
      "1    7.0  9.0\n",
      "2   13.0  5.0\n",
      "3   16.0  9.0\n",
      "4   18.0  2.0\n",
      "..   ...  ...\n",
      "95  14.0  4.0\n",
      "96   1.0  9.0\n",
      "97   5.0  9.0\n",
      "98   5.0  9.0\n",
      "99   1.0  2.0\n",
      "\n",
      "[100 rows x 2 columns]\n"
     ]
    }
   ],
   "source": [
    "# 将数据集划分为两个组件 X 和 Y\n",
    "X=df.iloc[:,0:2]\n",
    "Y=df.iloc[:,2]\n",
    "print(X)"
   ]
  },
  {
   "cell_type": "code",
   "execution_count": 7,
   "metadata": {},
   "outputs": [
    {
     "name": "stdout",
     "output_type": "stream",
     "text": [
      "X_train: (75, 2)\n",
      "y_train: (75,)\n",
      "X_test: (25, 2)\n",
      "y_test: (25,)\n"
     ]
    }
   ],
   "source": [
    "# 划分数据到训练集和测试集\n",
    "x_train,x_test,y_train,y_test=train_test_split(X,Y,test_size=args.test_size)\n",
    "print (\"X_train:\", x_train.shape)\n",
    "print (\"y_train:\", y_train.shape)\n",
    "print (\"X_test:\", x_test.shape)\n",
    "print (\"y_test:\", y_test.shape)"
   ]
  },
  {
   "cell_type": "code",
   "execution_count": 25,
   "metadata": {},
   "outputs": [
    {
     "name": "stdout",
     "output_type": "stream",
     "text": [
      "mean: [-7.99360578e-17  3.84877315e-17] 6.898185726337639e-16\n",
      "std: [1. 1.] 1.0\n"
     ]
    }
   ],
   "source": [
    "# 标准化训练集数据 (mean=0,std=1)\n",
    "\n",
    "# standard=StandardScaler()\n",
    "# # 在训练集和测试集上进行标准化操作\n",
    "# standardized_X_train = standard.fit_transform(x_train)\n",
    "# standardized_y_train = standard.fit_transform(y_train.values.reshape(-1,1)).ravel()\n",
    "# standardized_X_test = standard.fit_transform(x_test)\n",
    "# standardized_y_test = standard.fit_transform(y_test.values.reshape(-1,1)).ravel()\n",
    "\n",
    "X_scaler=StandardScaler().fit(x_train)\n",
    "y_scaler=StandardScaler().fit(y_train.values.reshape(-1,1))\n",
    "# 在训练集和测试集上进行标准化操作\n",
    "standardized_X_train = X_scaler.transform(x_train)\n",
    "standardized_y_train = y_scaler.transform(y_train.values.reshape(-1,1)).ravel()\n",
    "standardized_X_test = X_scaler.transform(x_test)\n",
    "standardized_y_test = y_scaler.transform(y_test.values.reshape(-1,1)).ravel()\n",
    "\n",
    "\n",
    "# 检查\n",
    "print (\"mean:\", np.mean(standardized_X_train, axis=0), \n",
    "       np.mean(standardized_y_train, axis=0)) # mean 应该是 ~0\n",
    "print (\"std:\", np.std(standardized_X_train, axis=0), \n",
    "       np.std(standardized_y_train, axis=0))   # std 应该是 1"
   ]
  },
  {
   "cell_type": "markdown",
   "metadata": {},
   "source": [
    "### 一、使用sklearn中的LinearRegression()进行回归"
   ]
  },
  {
   "cell_type": "code",
   "execution_count": 32,
   "metadata": {},
   "outputs": [
    {
     "name": "stdout",
     "output_type": "stream",
     "text": [
      "pred_train [54.57 92.09 51.32 86.89 38.04 52.62 95.62 92.09 80.11 25.13 97.57 20.58\n",
      " 83.64 89.77 86.24 36.09 24.11 36.74 80.76 43.24 43.89 37.39 81.69 47.42\n",
      " 60.05 98.22 24.11 72.96 92.37 59.4  52.62 32.56 85.59 84.29 53.55 53.92\n",
      " 19.28 25.13 35.16 36.74 96.92 27.36 70.08 67.48 28.66 33.21 31.26 91.44\n",
      " 47.42 48.72 51.97 21.88 51.97 74.91 36.74 15.38 33.86 35.81 95.62 62.65\n",
      " 62.   80.39 50.67 60.05 81.04 93.67 34.79 93.02 35.81 86.89 33.21 78.81\n",
      " 25.13 84.94 24.11]\n",
      "y_train 80    54.57\n",
      "13    92.09\n",
      "95    51.32\n",
      "35    86.89\n",
      "84    38.04\n",
      "      ...  \n",
      "33    33.21\n",
      "41    78.81\n",
      "8     25.13\n",
      "60    84.94\n",
      "99    24.11\n",
      "Name: y, Length: 75, dtype: float64\n"
     ]
    }
   ],
   "source": [
    "from sklearn.linear_model import LinearRegression\n",
    "linear = LinearRegression()\n",
    "linear.fit(X=x_train,y=y_train)\n",
    "# pred_train=(linear.predict(x_train) * np.sqrt(y_scaler.var_))+y_scaler.mean_\n",
    "pred_train = linear.predict(x_train)\n",
    "print(\"pred_train\",pred_train)\n",
    "print(\"y_train\",y_train)"
   ]
  },
  {
   "cell_type": "code",
   "execution_count": 33,
   "metadata": {},
   "outputs": [
    {
     "data": {
      "image/png": "[encoded data removed]",
      "text/plain": [
       "<Figure size 432x288 with 1 Axes>"
      ]
     },
     "metadata": {
      "needs_background": "light"
     },
     "output_type": "display_data"
    },
    {
     "data": {
      "image/png": "[encoded data removed]",
      "text/plain": [
       "<Figure size 432x288 with 1 Axes>"
      ]
     },
     "metadata": {
      "needs_background": "light"
     },
     "output_type": "display_data"
    }
   ],
   "source": [
    "from matplotlib import pyplot as plt\n",
    "plt.title('pred_train & y_train')\n",
    "plt.plot(pred_train,y_train)\n",
    "plt.show()\n",
    "# sym='r*':表示异常点的形状\n",
    "df.boxplot(sym='r*')\n",
    "plt.show()"
   ]
  },
  {
   "cell_type": "code",
   "execution_count": 34,
   "metadata": {},
   "outputs": [
    {
     "name": "stdout",
     "output_type": "stream",
     "text": [
      "pred_test [ 91.72  67.48  15.38  58.1   53.92  61.35  53.55  69.43  41.29  92.37\n",
      "  54.2   53.92  64.23  36.09  91.07 101.47  91.72  40.64  61.63  22.53\n",
      "  31.26  50.02  99.52 100.82  63.3 ]\n",
      "y_test 26     91.72\n",
      "94     67.48\n",
      "79     15.38\n",
      "89     58.10\n",
      "32     53.92\n",
      "37     61.35\n",
      "27     53.55\n",
      "49     69.43\n",
      "7      41.29\n",
      "98     92.37\n",
      "19     54.20\n",
      "85     53.92\n",
      "83     64.23\n",
      "61     36.09\n",
      "78     91.07\n",
      "71    101.47\n",
      "92     91.72\n",
      "21     40.64\n",
      "22     61.63\n",
      "28     22.53\n",
      "30     31.26\n",
      "36     50.02\n",
      "3      99.52\n",
      "43    100.82\n",
      "38     63.30\n",
      "Name: y, dtype: float64\n"
     ]
    }
   ],
   "source": [
    "pred_test=linear.predict(x_test)\n",
    "print('pred_test',pred_test)\n",
    "print('y_test',y_test)"
   ]
  },
  {
   "cell_type": "code",
   "execution_count": 35,
   "metadata": {},
   "outputs": [
    {
     "name": "stdout",
     "output_type": "stream",
     "text": [
      "   X1  X2\n",
      "0   0   1\n",
      "1   2   3\n",
      "2   4   5\n",
      "3   6   7\n",
      "[14.080000000000002, 34.14, 54.20000000000001, 74.26000000000002]\n",
      "[14.08 34.14 54.2  74.26]\n"
     ]
    }
   ],
   "source": [
    "# 自定义输入\n",
    "X_infer=pd.DataFrame(np.arange(8).reshape(4,2),columns=['X1','X2'])\n",
    "print(X_infer)\n",
    "y_infer=[0.65*x1+9.38*x2+4.7 for x1,x2 in X_infer.values]\n",
    "print(y_infer)\n",
    "pred_infer=linear.predict(X_infer)\n",
    "print(pred_infer)\n",
    "plt.show()"
   ]
  },
  {
   "cell_type": "code",
   "execution_count": 36,
   "metadata": {},
   "outputs": [
    {
     "name": "stdout",
     "output_type": "stream",
     "text": [
      "train_MSE: 0.00, test_MSE: 0.00\n"
     ]
    }
   ],
   "source": [
    "# 评估回归效果\n",
    "train_mse=np.mean(y_train-pred_train)**2\n",
    "test_mse=np.mean(y_test-pred_test)**2\n",
    "print (\"train_MSE: {0:.2f}, test_MSE: {1:.2f}\".format(train_mse, test_mse))"
   ]
  },
  {
   "cell_type": "code",
   "execution_count": 37,
   "metadata": {},
   "outputs": [
    {
     "name": "stdout",
     "output_type": "stream",
     "text": [
      "coef [0.65 9.38]\n",
      "intercept 4.699999999999989\n",
      "score 1.0\n"
     ]
    }
   ],
   "source": [
    "coef=linear.coef_\n",
    "intercept=linear.intercept_\n",
    "score=linear.score(X,Y)\n",
    "print('coef',coef)\n",
    "print('intercept',intercept)\n",
    "print('score',score)"
   ]
  },
  {
   "cell_type": "markdown",
   "metadata": {},
   "source": [
    "### 二、使用SGDRegression()回归"
   ]
  },
  {
   "cell_type": "code",
   "execution_count": 38,
   "metadata": {},
   "outputs": [
    {
     "data": {
      "text/plain": [
       "SGDRegressor(max_iter=100, penalty='none')"
      ]
     },
     "execution_count": 38,
     "metadata": {},
     "output_type": "execute_result"
    }
   ],
   "source": [
    "from sklearn.linear_model import SGDRegressor\n",
    "sgd=SGDRegressor(loss='squared_loss',penalty='none',max_iter=args.num_epochs)\n",
    "sgd.fit(X=standardized_X_train,y=standardized_y_train)"
   ]
  },
  {
   "cell_type": "code",
   "execution_count": 39,
   "metadata": {},
   "outputs": [],
   "source": [
    "# 预测 (还未标准化)\n",
    "# pred_train = (sgd.predict(standardized_X_train) * np.sqrt(y_scaler.var_)) + y_scaler.mean_\n",
    "# pred_test = (sgd.predict(standardized_X_test) * np.sqrt(y_scaler.var_)) + y_scaler.mean_\n",
    "\n",
    "pred_train = sgd.predict(standardized_X_train)\n",
    "pred_test = sgd.predict(standardized_X_test)"
   ]
  },
  {
   "cell_type": "code",
   "execution_count": 40,
   "metadata": {},
   "outputs": [
    {
     "name": "stdout",
     "output_type": "stream",
     "text": [
      "train_MSE: 3304.56, test_MSE: 3904.03\n"
     ]
    }
   ],
   "source": [
    "# 评估\n",
    "# 训练集和测试集上的误差 MSE\n",
    "train_mse=np.mean(y_train-pred_train)**2\n",
    "test_mse=np.mean(y_test-pred_test)**2\n",
    "print (\"train_MSE: {0:.2f}, test_MSE: {1:.2f}\".format(train_mse, test_mse))"
   ]
  },
  {
   "cell_type": "code",
   "execution_count": 41,
   "metadata": {},
   "outputs": [
    {
     "name": "stdout",
     "output_type": "stream",
     "text": [
      "[14.080000000000002, 34.14, 54.20000000000001]\n",
      "[14.08 34.14 54.2 ]\n"
     ]
    }
   ],
   "source": [
    "# 传入自定义的输入值\n",
    "X_infer=pd.DataFrame(np.arange(6).reshape(3,2),columns=['X1','X2'])\n",
    "y_infer=[0.65*x1+9.38*x2+4.7 for x1,x2 in X_infer.values]\n",
    "print(y_infer)\n",
    "pred_infer=linear.predict(X_infer)\n",
    "print(pred_infer)"
   ]
  },
  {
   "cell_type": "code",
   "execution_count": 42,
   "metadata": {},
   "outputs": [
    {
     "name": "stdout",
     "output_type": "stream",
     "text": [
      "coef [0.65 9.38]\n",
      "intercept 4.699999999999989\n",
      "score 1.0\n"
     ]
    }
   ],
   "source": [
    "# 可解释性\n",
    "coef=linear.coef_\n",
    "intercept=linear.intercept_\n",
    "score=linear.score(X,Y)\n",
    "print('coef',coef)\n",
    "print('intercept',intercept)\n",
    "print('score',score)"
   ]
  },
  {
   "cell_type": "markdown",
   "metadata": {},
   "source": [
    "### 三、带有正则化的SGDRegression()回归"
   ]
  },
  {
   "cell_type": "code",
   "execution_count": 43,
   "metadata": {},
   "outputs": [
    {
     "name": "stdout",
     "output_type": "stream",
     "text": [
      "X_train,standardized_X_train       X1   X2\n",
      "80  19.0  4.0\n",
      "13  19.0  8.0\n",
      "95  14.0  4.0\n",
      "35  11.0  8.0\n",
      "84   8.0  3.0\n",
      "..   ...  ...\n",
      "33  15.0  2.0\n",
      "41  13.0  7.0\n",
      "8   17.0  1.0\n",
      "60   8.0  8.0\n",
      "99   1.0  2.0\n",
      "\n",
      "[75 rows x 2 columns] [[ 1.5211314  -0.32264678]\n",
      " [ 1.5211314   1.1439295 ]\n",
      " [ 0.59511797 -0.32264678]\n",
      " [ 0.03950991  1.1439295 ]\n",
      " [-0.51609816 -0.68929085]\n",
      " [ 0.96552334 -0.32264678]\n",
      " [-0.14569278  1.51057357]\n",
      " [ 1.5211314   1.1439295 ]\n",
      " [ 0.78032066  0.77728543]\n",
      " [ 1.15072603 -1.422579  ]\n",
      " [ 0.40991528  1.51057357]\n",
      " [-0.14569278 -1.422579  ]\n",
      " [-0.88650353  1.1439295 ]\n",
      " [-1.81251697  1.51057357]\n",
      " [-0.14569278  1.1439295 ]\n",
      " [-1.07170622 -0.68929085]\n",
      " [-1.81251697 -1.05593493]\n",
      " [-0.88650353 -0.68929085]\n",
      " [ 0.96552334  0.77728543]\n",
      " [ 0.96552334 -0.68929085]\n",
      " [ 1.15072603 -0.68929085]\n",
      " [-0.70130084 -0.68929085]\n",
      " [-1.44211159  1.1439295 ]\n",
      " [-0.51609816 -0.32264678]\n",
      " [ 0.40991528  0.04399729]\n",
      " [ 0.59511797  1.51057357]\n",
      " [-1.81251697 -1.05593493]\n",
      " [-1.2569089   0.77728543]\n",
      " [-1.07170622  1.51057357]\n",
      " [ 0.22471259  0.04399729]\n",
      " [ 0.96552334 -0.32264678]\n",
      " [ 0.59511797 -1.05593493]\n",
      " [-0.33089547  1.1439295 ]\n",
      " [-0.70130084  1.1439295 ]\n",
      " [-1.44211159  0.04399729]\n",
      " [ 1.33592872 -0.32264678]\n",
      " [-0.51609816 -1.422579  ]\n",
      " [ 1.15072603 -1.422579  ]\n",
      " [ 1.33592872 -1.05593493]\n",
      " [-0.88650353 -0.68929085]\n",
      " [ 0.22471259  1.51057357]\n",
      " [-0.88650353 -1.05593493]\n",
      " [ 0.59511797  0.41064136]\n",
      " [-0.14569278  0.41064136]\n",
      " [-0.51609816 -1.05593493]\n",
      " [ 0.78032066 -1.05593493]\n",
      " [ 0.22471259 -1.05593493]\n",
      " [ 1.33592872  1.1439295 ]\n",
      " [-0.51609816 -0.32264678]\n",
      " [-0.14569278 -0.32264678]\n",
      " [ 0.78032066 -0.32264678]\n",
      " [ 0.22471259 -1.422579  ]\n",
      " [ 0.78032066 -0.32264678]\n",
      " [-0.70130084  0.77728543]\n",
      " [-0.88650353 -0.68929085]\n",
      " [-1.62731428 -1.422579  ]\n",
      " [ 0.96552334 -1.05593493]\n",
      " [ 1.5211314  -1.05593493]\n",
      " [-0.14569278  1.51057357]\n",
      " [ 1.15072603  0.04399729]\n",
      " [ 0.96552334  0.04399729]\n",
      " [-1.81251697  1.1439295 ]\n",
      " [ 0.40991528 -0.32264678]\n",
      " [ 0.40991528  0.04399729]\n",
      " [-1.62731428  1.1439295 ]\n",
      " [-0.70130084  1.51057357]\n",
      " [-1.44211159 -0.68929085]\n",
      " [-0.88650353  1.51057357]\n",
      " [ 1.5211314  -1.05593493]\n",
      " [ 0.03950991  1.1439295 ]\n",
      " [ 0.78032066 -1.05593493]\n",
      " [ 0.40991528  0.77728543]\n",
      " [ 1.15072603 -1.422579  ]\n",
      " [-0.51609816  1.1439295 ]\n",
      " [-1.81251697 -1.05593493]]\n"
     ]
    },
    {
     "data": {
      "text/plain": [
       "SGDRegressor(alpha=0.01, max_iter=100)"
      ]
     },
     "execution_count": 43,
     "metadata": {},
     "output_type": "execute_result"
    }
   ],
   "source": [
    "# alpha:乘以正则化的常数\n",
    "l2_sgd=SGDRegressor(loss='squared_loss',penalty='l2',max_iter=args.num_epochs,alpha=1e-2)\n",
    "print('X_train,standardized_X_train',x_train,standardized_X_train)\n",
    "l2_sgd.fit(X=standardized_X_train,y=standardized_y_train)"
   ]
  },
  {
   "cell_type": "code",
   "execution_count": 44,
   "metadata": {},
   "outputs": [],
   "source": [
    "# 预测 (还未标准化)\n",
    "pred_train = (l2_sgd.predict(standardized_X_train) * np.sqrt(y_scaler.var_)) + y_scaler.mean_\n",
    "pred_test = (l2_sgd.predict(standardized_X_test) * np.sqrt(y_scaler.var_)) + y_scaler.mean_"
   ]
  },
  {
   "cell_type": "code",
   "execution_count": 45,
   "metadata": {},
   "outputs": [
    {
     "name": "stdout",
     "output_type": "stream",
     "text": [
      "train_MSE: 2.13, test_MSE: 2.20\n"
     ]
    }
   ],
   "source": [
    "# 训练集和测试集的MSE\n",
    "train_mse = np.mean((y_train - pred_train) ** 2)\n",
    "test_mse = np.mean((y_test - pred_test) ** 2)\n",
    "print (\"train_MSE: {0:.2f}, test_MSE: {1:.2f}\".format(\n",
    "    train_mse, test_mse))"
   ]
  },
  {
   "cell_type": "code",
   "execution_count": 46,
   "metadata": {},
   "outputs": [
    {
     "name": "stdout",
     "output_type": "stream",
     "text": [
      "[0.52676404 8.86869522]\n",
      "[51.82463415 14.22742957]\n"
     ]
    }
   ],
   "source": [
    "# 未标准化系数\n",
    "coef = l2_sgd.coef_ * (y_scaler.scale_/X_scaler.scale_)\n",
    "intercept = l2_sgd.intercept_ * y_scaler.scale_ + y_scaler.mean_ - (coef*X_scaler.mean_)\n",
    "print (coef) \n",
    "print (intercept) "
   ]
  },
  {
   "cell_type": "markdown",
   "metadata": {},
   "source": [
    "# 2、多项式回归\n",
    "#### 类似于$h(x)=a*x^2+b*x+c$"
   ]
  },
  {
   "cell_type": "code",
   "execution_count": 47,
   "metadata": {},
   "outputs": [],
   "source": [
    "from matplotlib import pyplot as plt\n",
    "from argparse import Namespace\n",
    "import numpy as np\n",
    "import pandas as pd"
   ]
  },
  {
   "cell_type": "code",
   "execution_count": 48,
   "metadata": {},
   "outputs": [],
   "source": [
    "# 参数\n",
    "args=Namespace(\n",
    "        seed=1234,\n",
    "        num_samples=100,\n",
    "        train_size=0.75,\n",
    "        test_size=0.25,\n",
    "        num_epochs=100,\n",
    ")\n",
    "np.random.seed(args.seed)"
   ]
  },
  {
   "cell_type": "code",
   "execution_count": 49,
   "metadata": {},
   "outputs": [
    {
     "name": "stdout",
     "output_type": "stream",
     "text": [
      "    x   y\n",
      "0   1   3\n",
      "1   3   4\n",
      "2   5  12\n",
      "3   8  23\n",
      "4   6  15\n",
      "5   4  11\n",
      "6  12  23\n",
      "7  17  34\n",
      "8  40  68\n",
      "9  23  67\n"
     ]
    }
   ],
   "source": [
    "x=[1,3,5,8,6,4,12,17,40,23,30,48,56,34,23]\n",
    "y=[3,4,12,23,15,11,23,34,68,67,78,88,99,51,40]\n",
    "data=np.vstack([x,y]).T\n",
    "df=pd.DataFrame(data,columns=['x','y'])\n",
    "print(df.head(10))"
   ]
  },
  {
   "cell_type": "code",
   "execution_count": 50,
   "metadata": {},
   "outputs": [
    {
     "data": {
      "image/png": "[encoded data removed]",
      "text/plain": [
       "<Figure size 432x288 with 1 Axes>"
      ]
     },
     "metadata": {
      "needs_background": "light"
     },
     "output_type": "display_data"
    }
   ],
   "source": [
    "# plt绘制x与y的关系\n",
    "plt.scatter(df['x'],df['y'])\n",
    "plt.show()"
   ]
  },
  {
   "cell_type": "code",
   "execution_count": 51,
   "metadata": {},
   "outputs": [],
   "source": [
    "from sklearn.model_selection import train_test_split\n",
    "from sklearn.linear_model import SGDRegressor\n",
    "from sklearn.linear_model import LinearRegression"
   ]
  },
  {
   "cell_type": "code",
   "execution_count": 52,
   "metadata": {},
   "outputs": [
    {
     "name": "stdout",
     "output_type": "stream",
     "text": [
      "X_train: (11, 1)\n",
      "y_train: (11,)\n",
      "X_test: (4, 1)\n",
      "y_test: (4,)\n"
     ]
    }
   ],
   "source": [
    "# 划分训练数据集\n",
    "X_train,X_test,y_train,y_test=train_test_split(df['x'].values.reshape(-1,1),df['y'],test_size=args.test_size)\n",
    "print (\"X_train:\", X_train.shape)\n",
    "print (\"y_train:\", y_train.shape)\n",
    "print (\"X_test:\", X_test.shape)\n",
    "print (\"y_test:\", y_test.shape)"
   ]
  },
  {
   "cell_type": "code",
   "execution_count": 53,
   "metadata": {},
   "outputs": [],
   "source": [
    "# 实例化一个二次多项式特征实例\n",
    "from sklearn.preprocessing import PolynomialFeatures\n",
    "ploy2 = PolynomialFeatures(degree=2)\n",
    "ploy3 = PolynomialFeatures(degree=3)\n",
    "ploy4 = PolynomialFeatures(degree=4)\n",
    "\n",
    "# 用二次多项式对样本X值做变换\n",
    "ploy2_X_train = ploy2.fit_transform(X_train)\n",
    "ploy2_X_test = ploy2.transform(X_test)\n",
    "\n",
    "# 用三次多项式对样本X值做变换\n",
    "ploy3_X_train = ploy3.fit_transform(X_train)\n",
    "ploy3_X_test = ploy3.transform(X_test)\n",
    "\n",
    "# 用三次多项式对样本X值做变换\n",
    "ploy4_X_train = ploy4.fit_transform(X_train)\n",
    "ploy4_X_test = ploy4.transform(X_test)"
   ]
  },
  {
   "cell_type": "markdown",
   "metadata": {},
   "source": [
    "### 使用LinearRegression()进行回归预测"
   ]
  },
  {
   "cell_type": "code",
   "execution_count": 54,
   "metadata": {},
   "outputs": [
    {
     "data": {
      "image/png": "[encoded data removed]",
      "text/plain": [
       "<Figure size 432x288 with 1 Axes>"
      ]
     },
     "metadata": {
      "needs_background": "light"
     },
     "output_type": "display_data"
    }
   ],
   "source": [
    "# 1次线性回归预测\n",
    "ply1_lr=LinearRegression()\n",
    "ply1_lr.fit(X_train,y_train)\n",
    "pred_test_1=ply1_lr.predict(X_test)\n",
    "\n",
    "# 2次线性回归预测\n",
    "ply2_lr=LinearRegression()\n",
    "ply2_lr.fit(ploy2_X_train,y_train)\n",
    "pred_test_2=ply2_lr.predict(ploy2_X_test)\n",
    "\n",
    "# 3次线性回归预测\n",
    "ply3_lr=LinearRegression()\n",
    "ply3_lr.fit(ploy3_X_train,y_train)\n",
    "pred_test_3=ply3_lr.predict(ploy3_X_test)\n",
    "\n",
    "# 4次线性回归预测\n",
    "ply4_lr=LinearRegression()\n",
    "ply4_lr.fit(ploy4_X_train,y_train)\n",
    "pred_test_4=ply4_lr.predict(ploy4_X_test)\n",
    "\n",
    "xx = np.linspace(0, 55, 200)   # 0到16均匀采集100个点做x轴\n",
    "xx = xx.reshape(xx.shape[0], 1)\n",
    "\n",
    "yy_poly1 = ply1_lr.predict(xx)\n",
    "\n",
    "xx_poly2 = ploy2.transform(xx)\n",
    "yy_poly2 = ply2_lr.predict(xx_poly2)\n",
    "\n",
    "xx_poly3 = ploy3.transform(xx)\n",
    "yy_poly3 = ply3_lr.predict(xx_poly3)\n",
    "\n",
    "xx_poly4 = ploy4.transform(xx)\n",
    "yy_poly4 = ply4_lr.predict(xx_poly4)\n",
    "\n",
    "plt.scatter(x,y)\n",
    "plt.plot(xx,yy_poly1,label='Degree1')\n",
    "plt.plot(xx,yy_poly2,label='Degree2')\n",
    "plt.plot(xx,yy_poly3,label='Degree3')\n",
    "plt.plot(xx,yy_poly4,label='Degree4')\n",
    "\n",
    "plt.legend()\n",
    "plt.show()"
   ]
  },
  {
   "cell_type": "code",
   "execution_count": 55,
   "metadata": {},
   "outputs": [
    {
     "name": "stdout",
     "output_type": "stream",
     "text": [
      "[[1.00000000e+00 0.00000000e+00 0.00000000e+00]\n",
      " [1.00000000e+00 2.89473684e+00 8.37950139e+00]\n",
      " [1.00000000e+00 5.78947368e+00 3.35180055e+01]\n",
      " [1.00000000e+00 8.68421053e+00 7.54155125e+01]\n",
      " [1.00000000e+00 1.15789474e+01 1.34072022e+02]\n",
      " [1.00000000e+00 1.44736842e+01 2.09487535e+02]\n",
      " [1.00000000e+00 1.73684211e+01 3.01662050e+02]\n",
      " [1.00000000e+00 2.02631579e+01 4.10595568e+02]\n",
      " [1.00000000e+00 2.31578947e+01 5.36288089e+02]\n",
      " [1.00000000e+00 2.60526316e+01 6.78739612e+02]\n",
      " [1.00000000e+00 2.89473684e+01 8.37950139e+02]\n",
      " [1.00000000e+00 3.18421053e+01 1.01391967e+03]\n",
      " [1.00000000e+00 3.47368421e+01 1.20664820e+03]\n",
      " [1.00000000e+00 3.76315789e+01 1.41613573e+03]\n",
      " [1.00000000e+00 4.05263158e+01 1.64238227e+03]\n",
      " [1.00000000e+00 4.34210526e+01 1.88538781e+03]\n",
      " [1.00000000e+00 4.63157895e+01 2.14515235e+03]\n",
      " [1.00000000e+00 4.92105263e+01 2.42167590e+03]\n",
      " [1.00000000e+00 5.21052632e+01 2.71495845e+03]\n",
      " [1.00000000e+00 5.50000000e+01 3.02500000e+03]]\n",
      "[-4.81175414  4.54546674 13.3289135  21.53858615 29.17448469 36.23660911\n",
      " 42.72495942 48.63953561 53.98033769 58.74736566 62.94061951 66.56009924\n",
      " 69.60580487 72.07773637 73.97589377 75.30027705 76.05088621 76.22772126\n",
      " 75.8307822  74.86006902]\n"
     ]
    },
    {
     "data": {
      "image/png": "[encoded data removed]",
      "text/plain": [
       "<Figure size 432x288 with 1 Axes>"
      ]
     },
     "metadata": {
      "needs_background": "light"
     },
     "output_type": "display_data"
    }
   ],
   "source": [
    "# 1次线性回归预测\n",
    "ply1_sgd=SGDRegressor(loss='squared_loss',penalty='l2',max_iter=args.num_epochs)\n",
    "ply1_sgd.fit(X_train,y_train)\n",
    "pred_test_1=ply1_sgd.predict(X_test)\n",
    "# print(X_test)\n",
    "# print('y_test',y_test)\n",
    "# print('pred_test:\\n',pred_test)\n",
    "\n",
    "# 2次线性回归预测\n",
    "ply2_sgd=LinearRegression()\n",
    "# print(ploy2_X_train)\n",
    "# print(y_train)\n",
    "ply2_sgd.fit(ploy2_X_train,y_train)\n",
    "pred_test_2=ply2_sgd.predict(ploy2_X_test)\n",
    "\n",
    "# 3次线性回归预测\n",
    "ply3_sgd=SGDRegressor(loss='squared_loss',penalty='l2',max_iter=args.num_epochs)\n",
    "ply3_sgd.fit(ploy3_X_train,y_train)\n",
    "pred_test_3=ply3_sgd.predict(ploy3_X_test)\n",
    "\n",
    "# 4次线性回归预测\n",
    "ply4_sgd=SGDRegressor(loss='squared_loss',penalty='l2',max_iter=args.num_epochs)\n",
    "ply4_sgd.fit(ploy4_X_train,y_train)\n",
    "pred_test_4=ply4_sgd.predict(ploy4_X_test)\n",
    "\n",
    "xx = np.linspace(0, 55, 20)   # 0到16均匀采集100个点做x轴\n",
    "xx = xx.reshape(xx.shape[0], 1)\n",
    "\n",
    "\n",
    "yy_poly1 = ply1_sgd.predict(xx)\n",
    "# print(xx)\n",
    "# print(yy_poly1)\n",
    "\n",
    "xx_poly2 = ploy2.transform(xx)\n",
    "print(xx_poly2)\n",
    "yy_poly2 = ply2_sgd.predict(xx_poly2)\n",
    "print(yy_poly2)\n",
    "xx_poly3 = ploy3.transform(xx)\n",
    "yy_poly3 = ply3_sgd.predict(xx_poly3)\n",
    "\n",
    "xx_poly4 = ploy4.transform(xx)\n",
    "yy_poly4 = ply4_sgd.predict(xx_poly4)\n",
    "\n",
    "plt.scatter(x,y)\n",
    "plt.plot(xx,yy_poly1,label='Degree1')\n",
    "plt.plot(xx,yy_poly2,label='Degree2')\n",
    "# plt.plot(xx,yy_poly3,label='Degree3')\n",
    "# plt.plot(xx,yy_poly4,label='Degree4')\n",
    "\n",
    "plt.legend()\n",
    "plt.show()"
   ]
  },
  {
   "cell_type": "code",
   "execution_count": 56,
   "metadata": {},
   "outputs": [
    {
     "name": "stdout",
     "output_type": "stream",
     "text": [
      "pred_test [205.77729084 299.56618741 -15.2965368  353.15984259]\n",
      "y_test 13    51\n",
      "11    88\n",
      "0      3\n",
      "12    99\n",
      "Name: y, dtype: int64\n",
      "coef [6.6992069]\n",
      "intercept [-21.99574369]\n"
     ]
    },
    {
     "data": {
      "image/png": "[encoded data removed]",
      "text/plain": [
       "<Figure size 432x288 with 1 Axes>"
      ]
     },
     "metadata": {
      "needs_background": "light"
     },
     "output_type": "display_data"
    }
   ],
   "source": [
    "sgd=SGDRegressor(loss=\"squared_loss\", penalty=\"none\", max_iter=args.num_epochs)\n",
    "sgd.fit(X_train,y_train)\n",
    "# 预测 (还未标准化)\n",
    "pred_test=sgd.predict(X_test)\n",
    "\n",
    "print('pred_test',pred_test)\n",
    "print('y_test',y_test)\n",
    "\n",
    "coef=sgd.coef_\n",
    "intercept=sgd.intercept_\n",
    "print('coef',coef)\n",
    "print('intercept',intercept)\n",
    "plt.scatter(X_test,pred_test)\n",
    "plt.scatter(X_test,y_test)\n",
    "plt.show()\n"
   ]
  },
  {
   "cell_type": "markdown",
   "metadata": {},
   "source": [
    "## 实验证明：对于多项式的回归来说，SGDRegression()的效果不如LinearRegression()"
   ]
  },
  {
   "cell_type": "code",
   "execution_count": null,
   "metadata": {},
   "outputs": [],
   "source": []
  }
 ],
 "metadata": {
  "interpreter": {
   "hash": "8edbee4577657a21849c316e519abb10c67579783f1d3e2ac356663f5b4de5ca"
  },
  "kernelspec": {
   "display_name": "covid",
   "language": "python",
   "name": "covid"
  },
  "language_info": {
   "codemirror_mode": {
    "name": "ipython",
    "version": 3
   },
   "file_extension": ".py",
   "mimetype": "text/x-python",
   "name": "python",
   "nbconvert_exporter": "python",
   "pygments_lexer": "ipython3",
   "version": "3.8.5"
  }
 },
 "nbformat": 4,
 "nbformat_minor": 2
}
